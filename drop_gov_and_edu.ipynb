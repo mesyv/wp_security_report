{
    "cells": [
        {
            "cell_type": "code",
            "execution_count": 1,
            "source": [
                "# Script drops \".gov\" and \".edu\" emails and domains\r\n",
                "# Creation date: 19 Oct 2022\r\n",
                "# Last modification: 11 Nov 2022\r\n",
                "\r\n",
                "# Imports\r\n",
                "import pandas as pd\r\n",
                "import os\r\n",
                "import glob\r\n",
                "from urllib.parse import urlparse\r\n",
                "\r\n",
                "path = os.getcwd() + \"\\\\scrapy\\\\emailscraper\\\\emails_1.csv\"\r\n",
                "df = pd.read_csv(path)\r\n",
                "\r\n",
                "# Drop .gov and .edu domains here\r\n",
                "df = df[df['Domain'].str.contains('.edu|.gov') == False]\r\n",
                "\r\n",
                "# Drop .gov and .edu emails\r\n",
                "df = df[df['Email'].str.contains('.edu|.gov') == False]\r\n",
                "df.to_csv(path, index=False)"
            ],
            "outputs": [],
            "metadata": {}
        }
    ],
    "metadata": {
        "orig_nbformat": 4,
        "language_info": {
            "name": "python",
            "version": "3.9.13",
            "mimetype": "text/x-python",
            "codemirror_mode": {
                "name": "ipython",
                "version": 3
            },
            "pygments_lexer": "ipython3",
            "nbconvert_exporter": "python",
            "file_extension": ".py"
        },
        "kernelspec": {
            "name": "python3",
            "display_name": "Python 3.9.13 64-bit (windows store)"
        },
        "interpreter": {
            "hash": "8065859a666a0a35ff186cc2b2b1d9fd6755a5e815cd2155f24ca932ca25e802"
        }
    },
    "nbformat": 4,
    "nbformat_minor": 2
}